{
 "cells": [
  {
   "cell_type": "code",
   "execution_count": 1,
   "id": "cdec7206",
   "metadata": {},
   "outputs": [],
   "source": [
    "import nltk "
   ]
  },
  {
   "cell_type": "code",
   "execution_count": 2,
   "id": "99d41f98",
   "metadata": {},
   "outputs": [
    {
     "name": "stdout",
     "output_type": "stream",
     "text": [
      "showing info https://raw.githubusercontent.com/nltk/nltk_data/gh-pages/index.xml\n"
     ]
    },
    {
     "data": {
      "text/plain": [
       "True"
      ]
     },
     "execution_count": 2,
     "metadata": {},
     "output_type": "execute_result"
    }
   ],
   "source": [
    "nltk.download()"
   ]
  },
  {
   "cell_type": "markdown",
   "id": "5f14a46f",
   "metadata": {},
   "source": [
    "- collect some text \n",
    "- word_tokenize\n",
    "- Sentence_tokenize(optional)\n",
    "- Lower text \n",
    "- cleaning the text \n",
    "- Removing stop words \n",
    "- Stemming \n",
    "- Lemmatization \n",
    "- Bag-of-words\n",
    "- Tf-Idf\n",
    "- Padding in NLP \n",
    "- parts of speech \n",
    "- Developing Models \n",
    "    - Deep learning RNN \n",
    "    - Deep learning LSTM RNN \n",
    "    - Deep learning Bidirectinal LSTM RNN \n",
    "    "
   ]
  },
  {
   "cell_type": "markdown",
   "id": "9bb23df1",
   "metadata": {},
   "source": [
    "### Collect Text "
   ]
  },
  {
   "cell_type": "code",
   "execution_count": 9,
   "id": "b9964921",
   "metadata": {},
   "outputs": [],
   "source": [
    "text = \"\"\"Python tutorial provides basic and advanced concepts of Python. Our Python tutorial is designed for beginners and professionals.Python is a simple, general purpose, high level, and object-oriented programming language.Python is an interpreted scripting language also. Guido Van Rossum is known as the founder of Python programming.\"\"\""
   ]
  },
  {
   "cell_type": "code",
   "execution_count": 15,
   "id": "f9a104cc",
   "metadata": {},
   "outputs": [
    {
     "data": {
      "text/plain": [
       "'Python tutorial provides basic and advanced concepts of Python. Our Python tutorial is designed for beginners and professionals.Python is a simple, general purpose, high level, and object-oriented programming language.Python is an interpreted scripting language also. Guido Van Rossum is known as the founder of Python programming.'"
      ]
     },
     "execution_count": 15,
     "metadata": {},
     "output_type": "execute_result"
    }
   ],
   "source": [
    "text"
   ]
  },
  {
   "cell_type": "code",
   "execution_count": 16,
   "id": "ab59d2c1",
   "metadata": {},
   "outputs": [
    {
     "data": {
      "text/plain": [
       "'P'"
      ]
     },
     "execution_count": 16,
     "metadata": {},
     "output_type": "execute_result"
    }
   ],
   "source": [
    "text[0]"
   ]
  },
  {
   "cell_type": "markdown",
   "id": "8d950156",
   "metadata": {},
   "source": [
    "### Sent_tokenize "
   ]
  },
  {
   "cell_type": "code",
   "execution_count": 12,
   "id": "bdd93898",
   "metadata": {},
   "outputs": [],
   "source": [
    "from nltk.tokenize import sent_tokenize"
   ]
  },
  {
   "cell_type": "code",
   "execution_count": 17,
   "id": "022766e8",
   "metadata": {},
   "outputs": [],
   "source": [
    "sent_text = sent_tokenize(text)"
   ]
  },
  {
   "cell_type": "code",
   "execution_count": 18,
   "id": "e6ae33c1",
   "metadata": {},
   "outputs": [
    {
     "data": {
      "text/plain": [
       "['Python tutorial provides basic and advanced concepts of Python.',\n",
       " 'Our Python tutorial is designed for beginners and professionals.Python is a simple, general purpose, high level, and object-oriented programming language.Python is an interpreted scripting language also.',\n",
       " 'Guido Van Rossum is known as the founder of Python programming.']"
      ]
     },
     "execution_count": 18,
     "metadata": {},
     "output_type": "execute_result"
    }
   ],
   "source": [
    "sent_text"
   ]
  },
  {
   "cell_type": "code",
   "execution_count": 19,
   "id": "cdae4cfc",
   "metadata": {},
   "outputs": [
    {
     "data": {
      "text/plain": [
       "'Python tutorial provides basic and advanced concepts of Python.'"
      ]
     },
     "execution_count": 19,
     "metadata": {},
     "output_type": "execute_result"
    }
   ],
   "source": [
    "sent_text[0]"
   ]
  },
  {
   "cell_type": "markdown",
   "id": "7074c6e9",
   "metadata": {},
   "source": [
    "### Word_tokenize"
   ]
  },
  {
   "cell_type": "code",
   "execution_count": 20,
   "id": "ee46df74",
   "metadata": {},
   "outputs": [
    {
     "data": {
      "text/plain": [
       "'Python tutorial provides basic and advanced concepts of Python. Our Python tutorial is designed for beginners and professionals.Python is a simple, general purpose, high level, and object-oriented programming language.Python is an interpreted scripting language also. Guido Van Rossum is known as the founder of Python programming.'"
      ]
     },
     "execution_count": 20,
     "metadata": {},
     "output_type": "execute_result"
    }
   ],
   "source": [
    "text"
   ]
  },
  {
   "cell_type": "code",
   "execution_count": 21,
   "id": "e9134303",
   "metadata": {},
   "outputs": [],
   "source": [
    "from nltk.tokenize import word_tokenize"
   ]
  },
  {
   "cell_type": "code",
   "execution_count": 22,
   "id": "e03a838d",
   "metadata": {
    "scrolled": true
   },
   "outputs": [
    {
     "data": {
      "text/plain": [
       "['Python',\n",
       " 'tutorial',\n",
       " 'provides',\n",
       " 'basic',\n",
       " 'and',\n",
       " 'advanced',\n",
       " 'concepts',\n",
       " 'of',\n",
       " 'Python',\n",
       " '.',\n",
       " 'Our',\n",
       " 'Python',\n",
       " 'tutorial',\n",
       " 'is',\n",
       " 'designed',\n",
       " 'for',\n",
       " 'beginners',\n",
       " 'and',\n",
       " 'professionals.Python',\n",
       " 'is',\n",
       " 'a',\n",
       " 'simple',\n",
       " ',',\n",
       " 'general',\n",
       " 'purpose',\n",
       " ',',\n",
       " 'high',\n",
       " 'level',\n",
       " ',',\n",
       " 'and',\n",
       " 'object-oriented',\n",
       " 'programming',\n",
       " 'language.Python',\n",
       " 'is',\n",
       " 'an',\n",
       " 'interpreted',\n",
       " 'scripting',\n",
       " 'language',\n",
       " 'also',\n",
       " '.',\n",
       " 'Guido',\n",
       " 'Van',\n",
       " 'Rossum',\n",
       " 'is',\n",
       " 'known',\n",
       " 'as',\n",
       " 'the',\n",
       " 'founder',\n",
       " 'of',\n",
       " 'Python',\n",
       " 'programming',\n",
       " '.']"
      ]
     },
     "execution_count": 22,
     "metadata": {},
     "output_type": "execute_result"
    }
   ],
   "source": [
    "word_tokenize(text)"
   ]
  },
  {
   "cell_type": "code",
   "execution_count": 25,
   "id": "8930555d",
   "metadata": {
    "scrolled": true
   },
   "outputs": [
    {
     "data": {
      "text/plain": [
       "['Python',\n",
       " 'tutorial',\n",
       " 'provides',\n",
       " 'basic',\n",
       " 'and',\n",
       " 'advanced',\n",
       " 'concepts',\n",
       " 'of',\n",
       " 'Python.',\n",
       " 'Our',\n",
       " 'Python',\n",
       " 'tutorial',\n",
       " 'is',\n",
       " 'designed',\n",
       " 'for',\n",
       " 'beginners',\n",
       " 'and',\n",
       " 'professionals.Python',\n",
       " 'is',\n",
       " 'a',\n",
       " 'simple,',\n",
       " 'general',\n",
       " 'purpose,',\n",
       " 'high',\n",
       " 'level,',\n",
       " 'and',\n",
       " 'object-oriented',\n",
       " 'programming',\n",
       " 'language.Python',\n",
       " 'is',\n",
       " 'an',\n",
       " 'interpreted',\n",
       " 'scripting',\n",
       " 'language',\n",
       " 'also.',\n",
       " 'Guido',\n",
       " 'Van',\n",
       " 'Rossum',\n",
       " 'is',\n",
       " 'known',\n",
       " 'as',\n",
       " 'the',\n",
       " 'founder',\n",
       " 'of',\n",
       " 'Python',\n",
       " 'programming.']"
      ]
     },
     "execution_count": 25,
     "metadata": {},
     "output_type": "execute_result"
    }
   ],
   "source": [
    "a = text.split()  # defaulty works with (.)\n",
    "a"
   ]
  },
  {
   "cell_type": "markdown",
   "id": "43e28f34",
   "metadata": {},
   "source": [
    "### Lower the text "
   ]
  },
  {
   "cell_type": "code",
   "execution_count": 26,
   "id": "fda60a4f",
   "metadata": {},
   "outputs": [],
   "source": [
    "a = 'KAMAL'\n",
    "\n",
    "B = 'kamal'"
   ]
  },
  {
   "cell_type": "code",
   "execution_count": 28,
   "id": "762b4058",
   "metadata": {},
   "outputs": [
    {
     "data": {
      "text/plain": [
       "'Python tutorial provides basic and advanced concepts of Python. Our Python tutorial is designed for beginners and professionals.Python is a simple, general purpose, high level, and object-oriented programming language.Python is an interpreted scripting language also. Guido Van Rossum is known as the founder of Python programming.'"
      ]
     },
     "execution_count": 28,
     "metadata": {},
     "output_type": "execute_result"
    }
   ],
   "source": [
    "text"
   ]
  },
  {
   "cell_type": "code",
   "execution_count": 29,
   "id": "5083fa30",
   "metadata": {},
   "outputs": [],
   "source": [
    "text_lower = text.lower()"
   ]
  },
  {
   "cell_type": "code",
   "execution_count": 30,
   "id": "2ac286f2",
   "metadata": {},
   "outputs": [
    {
     "data": {
      "text/plain": [
       "'python tutorial provides basic and advanced concepts of python. our python tutorial is designed for beginners and professionals.python is a simple, general purpose, high level, and object-oriented programming language.python is an interpreted scripting language also. guido van rossum is known as the founder of python programming.'"
      ]
     },
     "execution_count": 30,
     "metadata": {},
     "output_type": "execute_result"
    }
   ],
   "source": [
    "text_lower"
   ]
  },
  {
   "cell_type": "markdown",
   "id": "ef5a79b3",
   "metadata": {},
   "source": [
    "### Cleaning the text "
   ]
  },
  {
   "cell_type": "code",
   "execution_count": 31,
   "id": "1a30e4ab",
   "metadata": {},
   "outputs": [],
   "source": [
    "import string"
   ]
  },
  {
   "cell_type": "code",
   "execution_count": 32,
   "id": "6d77fb6a",
   "metadata": {},
   "outputs": [
    {
     "data": {
      "text/plain": [
       "'!\"#$%&\\'()*+,-./:;<=>?@[\\\\]^_`{|}~'"
      ]
     },
     "execution_count": 32,
     "metadata": {},
     "output_type": "execute_result"
    }
   ],
   "source": [
    "string.punctuation"
   ]
  },
  {
   "cell_type": "code",
   "execution_count": 37,
   "id": "d4d0afb7",
   "metadata": {},
   "outputs": [
    {
     "data": {
      "text/plain": [
       "'python tutorial provides basic and advanced concepts of python our python tutorial is designed for beginners and professionalspython is a simple general purpose high level and objectoriented programming languagepython is an interpreted scripting language also guido van rossum is known as the founder of python programming'"
      ]
     },
     "execution_count": 37,
     "metadata": {},
     "output_type": "execute_result"
    }
   ],
   "source": [
    "cleaned_text = ''.join([i for i in text_lower if i not in string.punctuation ])\n",
    "cleaned_text"
   ]
  },
  {
   "cell_type": "code",
   "execution_count": 39,
   "id": "b1ab51fd",
   "metadata": {},
   "outputs": [
    {
     "name": "stdout",
     "output_type": "stream",
     "text": [
      "python tutorial provides basic and advanced concepts of python our python tutorial is designed for beginners and professionalspython is a simple general purpose high level and objectoriented programming languagepython is an interpreted scripting language also guido van rossum is known as the founder of python programming\n"
     ]
    }
   ],
   "source": [
    "a = []\n",
    "for i in text_lower:\n",
    "    if i not in string.punctuation:\n",
    "        a.append(i)\n",
    "b = ''.join(a)\n",
    "print(b)\n",
    "        "
   ]
  },
  {
   "cell_type": "code",
   "execution_count": 40,
   "id": "4975972a",
   "metadata": {},
   "outputs": [
    {
     "data": {
      "text/plain": [
       "'python tutorial provides basic and advanced concepts of python our python tutorial is designed for beginners and professionalspython is a simple general purpose high level and objectoriented programming languagepython is an interpreted scripting language also guido van rossum is known as the founder of python programming'"
      ]
     },
     "execution_count": 40,
     "metadata": {},
     "output_type": "execute_result"
    }
   ],
   "source": [
    "cleaned_text"
   ]
  },
  {
   "cell_type": "markdown",
   "id": "cbcb6bd6",
   "metadata": {},
   "source": [
    "### Removing stop words "
   ]
  },
  {
   "cell_type": "code",
   "execution_count": 41,
   "id": "92088c17",
   "metadata": {},
   "outputs": [],
   "source": [
    "from nltk.corpus import stopwords"
   ]
  },
  {
   "cell_type": "code",
   "execution_count": 43,
   "id": "65962d5f",
   "metadata": {},
   "outputs": [
    {
     "name": "stderr",
     "output_type": "stream",
     "text": [
      "[nltk_data] Downloading package stopwords to\n",
      "[nltk_data]     C:\\Users\\korla\\AppData\\Roaming\\nltk_data...\n",
      "[nltk_data]   Unzipping corpora\\stopwords.zip.\n"
     ]
    },
    {
     "data": {
      "text/plain": [
       "True"
      ]
     },
     "execution_count": 43,
     "metadata": {},
     "output_type": "execute_result"
    }
   ],
   "source": [
    "import nltk\n",
    "nltk.download('stopwords')"
   ]
  },
  {
   "cell_type": "code",
   "execution_count": 44,
   "id": "ca19aab1",
   "metadata": {},
   "outputs": [
    {
     "data": {
      "text/plain": [
       "['i',\n",
       " 'me',\n",
       " 'my',\n",
       " 'myself',\n",
       " 'we',\n",
       " 'our',\n",
       " 'ours',\n",
       " 'ourselves',\n",
       " 'you',\n",
       " \"you're\",\n",
       " \"you've\",\n",
       " \"you'll\",\n",
       " \"you'd\",\n",
       " 'your',\n",
       " 'yours',\n",
       " 'yourself',\n",
       " 'yourselves',\n",
       " 'he',\n",
       " 'him',\n",
       " 'his',\n",
       " 'himself',\n",
       " 'she',\n",
       " \"she's\",\n",
       " 'her',\n",
       " 'hers',\n",
       " 'herself',\n",
       " 'it',\n",
       " \"it's\",\n",
       " 'its',\n",
       " 'itself',\n",
       " 'they',\n",
       " 'them',\n",
       " 'their',\n",
       " 'theirs',\n",
       " 'themselves',\n",
       " 'what',\n",
       " 'which',\n",
       " 'who',\n",
       " 'whom',\n",
       " 'this',\n",
       " 'that',\n",
       " \"that'll\",\n",
       " 'these',\n",
       " 'those',\n",
       " 'am',\n",
       " 'is',\n",
       " 'are',\n",
       " 'was',\n",
       " 'were',\n",
       " 'be',\n",
       " 'been',\n",
       " 'being',\n",
       " 'have',\n",
       " 'has',\n",
       " 'had',\n",
       " 'having',\n",
       " 'do',\n",
       " 'does',\n",
       " 'did',\n",
       " 'doing',\n",
       " 'a',\n",
       " 'an',\n",
       " 'the',\n",
       " 'and',\n",
       " 'but',\n",
       " 'if',\n",
       " 'or',\n",
       " 'because',\n",
       " 'as',\n",
       " 'until',\n",
       " 'while',\n",
       " 'of',\n",
       " 'at',\n",
       " 'by',\n",
       " 'for',\n",
       " 'with',\n",
       " 'about',\n",
       " 'against',\n",
       " 'between',\n",
       " 'into',\n",
       " 'through',\n",
       " 'during',\n",
       " 'before',\n",
       " 'after',\n",
       " 'above',\n",
       " 'below',\n",
       " 'to',\n",
       " 'from',\n",
       " 'up',\n",
       " 'down',\n",
       " 'in',\n",
       " 'out',\n",
       " 'on',\n",
       " 'off',\n",
       " 'over',\n",
       " 'under',\n",
       " 'again',\n",
       " 'further',\n",
       " 'then',\n",
       " 'once',\n",
       " 'here',\n",
       " 'there',\n",
       " 'when',\n",
       " 'where',\n",
       " 'why',\n",
       " 'how',\n",
       " 'all',\n",
       " 'any',\n",
       " 'both',\n",
       " 'each',\n",
       " 'few',\n",
       " 'more',\n",
       " 'most',\n",
       " 'other',\n",
       " 'some',\n",
       " 'such',\n",
       " 'no',\n",
       " 'nor',\n",
       " 'not',\n",
       " 'only',\n",
       " 'own',\n",
       " 'same',\n",
       " 'so',\n",
       " 'than',\n",
       " 'too',\n",
       " 'very',\n",
       " 's',\n",
       " 't',\n",
       " 'can',\n",
       " 'will',\n",
       " 'just',\n",
       " 'don',\n",
       " \"don't\",\n",
       " 'should',\n",
       " \"should've\",\n",
       " 'now',\n",
       " 'd',\n",
       " 'll',\n",
       " 'm',\n",
       " 'o',\n",
       " 're',\n",
       " 've',\n",
       " 'y',\n",
       " 'ain',\n",
       " 'aren',\n",
       " \"aren't\",\n",
       " 'couldn',\n",
       " \"couldn't\",\n",
       " 'didn',\n",
       " \"didn't\",\n",
       " 'doesn',\n",
       " \"doesn't\",\n",
       " 'hadn',\n",
       " \"hadn't\",\n",
       " 'hasn',\n",
       " \"hasn't\",\n",
       " 'haven',\n",
       " \"haven't\",\n",
       " 'isn',\n",
       " \"isn't\",\n",
       " 'ma',\n",
       " 'mightn',\n",
       " \"mightn't\",\n",
       " 'mustn',\n",
       " \"mustn't\",\n",
       " 'needn',\n",
       " \"needn't\",\n",
       " 'shan',\n",
       " \"shan't\",\n",
       " 'shouldn',\n",
       " \"shouldn't\",\n",
       " 'wasn',\n",
       " \"wasn't\",\n",
       " 'weren',\n",
       " \"weren't\",\n",
       " 'won',\n",
       " \"won't\",\n",
       " 'wouldn',\n",
       " \"wouldn't\"]"
      ]
     },
     "execution_count": 44,
     "metadata": {},
     "output_type": "execute_result"
    }
   ],
   "source": [
    "stopwords = stopwords.words('english')  # 179\n",
    "stopwords"
   ]
  },
  {
   "cell_type": "code",
   "execution_count": 45,
   "id": "b356ae5f",
   "metadata": {},
   "outputs": [
    {
     "data": {
      "text/plain": [
       "179"
      ]
     },
     "execution_count": 45,
     "metadata": {},
     "output_type": "execute_result"
    }
   ],
   "source": [
    "len(stopwords)"
   ]
  },
  {
   "cell_type": "code",
   "execution_count": 46,
   "id": "9934e36b",
   "metadata": {},
   "outputs": [
    {
     "data": {
      "text/plain": [
       "'python tutorial provides basic and advanced concepts of python our python tutorial is designed for beginners and professionalspython is a simple general purpose high level and objectoriented programming languagepython is an interpreted scripting language also guido van rossum is known as the founder of python programming'"
      ]
     },
     "execution_count": 46,
     "metadata": {},
     "output_type": "execute_result"
    }
   ],
   "source": [
    "cleaned_text"
   ]
  },
  {
   "cell_type": "code",
   "execution_count": 47,
   "id": "232ac240",
   "metadata": {
    "scrolled": true
   },
   "outputs": [
    {
     "data": {
      "text/plain": [
       "['python',\n",
       " 'tutorial',\n",
       " 'provides',\n",
       " 'basic',\n",
       " 'and',\n",
       " 'advanced',\n",
       " 'concepts',\n",
       " 'of',\n",
       " 'python',\n",
       " 'our',\n",
       " 'python',\n",
       " 'tutorial',\n",
       " 'is',\n",
       " 'designed',\n",
       " 'for',\n",
       " 'beginners',\n",
       " 'and',\n",
       " 'professionalspython',\n",
       " 'is',\n",
       " 'a',\n",
       " 'simple',\n",
       " 'general',\n",
       " 'purpose',\n",
       " 'high',\n",
       " 'level',\n",
       " 'and',\n",
       " 'objectoriented',\n",
       " 'programming',\n",
       " 'languagepython',\n",
       " 'is',\n",
       " 'an',\n",
       " 'interpreted',\n",
       " 'scripting',\n",
       " 'language',\n",
       " 'also',\n",
       " 'guido',\n",
       " 'van',\n",
       " 'rossum',\n",
       " 'is',\n",
       " 'known',\n",
       " 'as',\n",
       " 'the',\n",
       " 'founder',\n",
       " 'of',\n",
       " 'python',\n",
       " 'programming']"
      ]
     },
     "execution_count": 47,
     "metadata": {},
     "output_type": "execute_result"
    }
   ],
   "source": [
    "a = word_tokenize(cleaned_text)\n",
    "a"
   ]
  },
  {
   "cell_type": "code",
   "execution_count": 49,
   "id": "ff6732ed",
   "metadata": {},
   "outputs": [],
   "source": [
    "stopwords_text = ' '.join([i for i in a if i not in stopwords])"
   ]
  },
  {
   "cell_type": "code",
   "execution_count": 51,
   "id": "4fe007bb",
   "metadata": {},
   "outputs": [
    {
     "data": {
      "text/plain": [
       "'python tutorial provides basic and advanced concepts of python our python tutorial is designed for beginners and professionalspython is a simple general purpose high level and objectoriented programming languagepython is an interpreted scripting language also guido van rossum is known as the founder of python programming'"
      ]
     },
     "execution_count": 51,
     "metadata": {},
     "output_type": "execute_result"
    }
   ],
   "source": [
    "cleaned_text"
   ]
  },
  {
   "cell_type": "code",
   "execution_count": 50,
   "id": "e56b3af5",
   "metadata": {},
   "outputs": [
    {
     "data": {
      "text/plain": [
       "'python tutorial provides basic advanced concepts python python tutorial designed beginners professionalspython simple general purpose high level objectoriented programming languagepython interpreted scripting language also guido van rossum known founder python programming'"
      ]
     },
     "execution_count": 50,
     "metadata": {},
     "output_type": "execute_result"
    }
   ],
   "source": [
    "stopwords_text"
   ]
  },
  {
   "cell_type": "markdown",
   "id": "b9380138",
   "metadata": {},
   "source": [
    "### Stemming "
   ]
  },
  {
   "cell_type": "code",
   "execution_count": 52,
   "id": "43354be2",
   "metadata": {},
   "outputs": [],
   "source": [
    "from nltk.stem.porter import PorterStemmer"
   ]
  },
  {
   "cell_type": "code",
   "execution_count": 53,
   "id": "d2fdbe5d",
   "metadata": {},
   "outputs": [],
   "source": [
    "po_stem = PorterStemmer()"
   ]
  },
  {
   "cell_type": "code",
   "execution_count": 56,
   "id": "aaeb5f1e",
   "metadata": {},
   "outputs": [
    {
     "name": "stdout",
     "output_type": "stream",
     "text": [
      "Original_name =  caring Stemming_words =  care\n",
      "Original_name =  care Stemming_words =  care\n",
      "Original_name =  cared Stemming_words =  care\n"
     ]
    }
   ],
   "source": [
    "n = ['caring','care','cared']\n",
    "for i in n:\n",
    "    print('Original_name = ',i,'Stemming_words = ',po_stem.stem(i))"
   ]
  },
  {
   "cell_type": "code",
   "execution_count": 59,
   "id": "6efde22a",
   "metadata": {
    "scrolled": true
   },
   "outputs": [
    {
     "name": "stdout",
     "output_type": "stream",
     "text": [
      "Original_word =  python stemming word =  python\n",
      "Original_word =  tutorial stemming word =  tutori\n",
      "Original_word =  provides stemming word =  provid\n",
      "Original_word =  basic stemming word =  basic\n",
      "Original_word =  advanced stemming word =  advanc\n",
      "Original_word =  concepts stemming word =  concept\n",
      "Original_word =  python stemming word =  python\n",
      "Original_word =  python stemming word =  python\n",
      "Original_word =  tutorial stemming word =  tutori\n",
      "Original_word =  designed stemming word =  design\n",
      "Original_word =  beginners stemming word =  beginn\n",
      "Original_word =  professionalspython stemming word =  professionalspython\n",
      "Original_word =  simple stemming word =  simpl\n",
      "Original_word =  general stemming word =  gener\n",
      "Original_word =  purpose stemming word =  purpos\n",
      "Original_word =  high stemming word =  high\n",
      "Original_word =  level stemming word =  level\n",
      "Original_word =  objectoriented stemming word =  objectori\n",
      "Original_word =  programming stemming word =  program\n",
      "Original_word =  languagepython stemming word =  languagepython\n",
      "Original_word =  interpreted stemming word =  interpret\n",
      "Original_word =  scripting stemming word =  script\n",
      "Original_word =  language stemming word =  languag\n",
      "Original_word =  also stemming word =  also\n",
      "Original_word =  guido stemming word =  guido\n",
      "Original_word =  van stemming word =  van\n",
      "Original_word =  rossum stemming word =  rossum\n",
      "Original_word =  known stemming word =  known\n",
      "Original_word =  founder stemming word =  founder\n",
      "Original_word =  python stemming word =  python\n",
      "Original_word =  programming stemming word =  program\n"
     ]
    }
   ],
   "source": [
    "a = stopwords_text.split()\n",
    "for i in a:\n",
    "    print(\"Original_word = \" , i , \"stemming word = \",po_stem.stem(i))\n",
    "    \n"
   ]
  },
  {
   "cell_type": "markdown",
   "id": "a7b97f40",
   "metadata": {},
   "source": [
    "### Lemmatization "
   ]
  },
  {
   "cell_type": "code",
   "execution_count": 60,
   "id": "994b9393",
   "metadata": {},
   "outputs": [],
   "source": [
    "from nltk.stem import WordNetLemmatizer"
   ]
  },
  {
   "cell_type": "code",
   "execution_count": 61,
   "id": "ad339487",
   "metadata": {},
   "outputs": [],
   "source": [
    "word_lem = WordNetLemmatizer()"
   ]
  },
  {
   "cell_type": "code",
   "execution_count": 63,
   "id": "ac9cce9c",
   "metadata": {},
   "outputs": [
    {
     "name": "stderr",
     "output_type": "stream",
     "text": [
      "[nltk_data] Downloading package wordnet to\n",
      "[nltk_data]     C:\\Users\\korla\\AppData\\Roaming\\nltk_data...\n",
      "[nltk_data]   Unzipping corpora\\wordnet.zip.\n"
     ]
    },
    {
     "data": {
      "text/plain": [
       "True"
      ]
     },
     "execution_count": 63,
     "metadata": {},
     "output_type": "execute_result"
    }
   ],
   "source": [
    "import nltk\n",
    "nltk.download('wordnet')"
   ]
  },
  {
   "cell_type": "code",
   "execution_count": 64,
   "id": "2218c308",
   "metadata": {},
   "outputs": [
    {
     "name": "stdout",
     "output_type": "stream",
     "text": [
      "Original_name =  caring Stemming_words =  caring\n",
      "Original_name =  care Stemming_words =  care\n",
      "Original_name =  cared Stemming_words =  cared\n"
     ]
    }
   ],
   "source": [
    "n = ['caring','care','cared']\n",
    "for i in n:\n",
    "    print('Original_name = ',i,'Stemming_words = ',word_lem.lemmatize(i))"
   ]
  },
  {
   "cell_type": "code",
   "execution_count": 65,
   "id": "fd530851",
   "metadata": {
    "scrolled": true
   },
   "outputs": [
    {
     "name": "stdout",
     "output_type": "stream",
     "text": [
      "Original_word =  python stemming word =  python\n",
      "Original_word =  tutorial stemming word =  tutorial\n",
      "Original_word =  provides stemming word =  provides\n",
      "Original_word =  basic stemming word =  basic\n",
      "Original_word =  advanced stemming word =  advanced\n",
      "Original_word =  concepts stemming word =  concept\n",
      "Original_word =  python stemming word =  python\n",
      "Original_word =  python stemming word =  python\n",
      "Original_word =  tutorial stemming word =  tutorial\n",
      "Original_word =  designed stemming word =  designed\n",
      "Original_word =  beginners stemming word =  beginner\n",
      "Original_word =  professionalspython stemming word =  professionalspython\n",
      "Original_word =  simple stemming word =  simple\n",
      "Original_word =  general stemming word =  general\n",
      "Original_word =  purpose stemming word =  purpose\n",
      "Original_word =  high stemming word =  high\n",
      "Original_word =  level stemming word =  level\n",
      "Original_word =  objectoriented stemming word =  objectoriented\n",
      "Original_word =  programming stemming word =  programming\n",
      "Original_word =  languagepython stemming word =  languagepython\n",
      "Original_word =  interpreted stemming word =  interpreted\n",
      "Original_word =  scripting stemming word =  scripting\n",
      "Original_word =  language stemming word =  language\n",
      "Original_word =  also stemming word =  also\n",
      "Original_word =  guido stemming word =  guido\n",
      "Original_word =  van stemming word =  van\n",
      "Original_word =  rossum stemming word =  rossum\n",
      "Original_word =  known stemming word =  known\n",
      "Original_word =  founder stemming word =  founder\n",
      "Original_word =  python stemming word =  python\n",
      "Original_word =  programming stemming word =  programming\n"
     ]
    }
   ],
   "source": [
    "b = stopwords_text.split()\n",
    "for i in a:\n",
    "    print(\"Original_word = \" , i , \"stemming word = \",word_lem.lemmatize(i))\n",
    "    \n"
   ]
  },
  {
   "cell_type": "markdown",
   "id": "63ffa463",
   "metadata": {},
   "source": [
    "### Parts of speech "
   ]
  },
  {
   "cell_type": "code",
   "execution_count": 69,
   "id": "42b1ee5b",
   "metadata": {},
   "outputs": [],
   "source": [
    "a = ['I am an data scietist']"
   ]
  },
  {
   "cell_type": "code",
   "execution_count": 70,
   "id": "ed61228a",
   "metadata": {},
   "outputs": [],
   "source": [
    "from nltk import pos_tag"
   ]
  },
  {
   "cell_type": "code",
   "execution_count": 74,
   "id": "e8053fc7",
   "metadata": {},
   "outputs": [
    {
     "data": {
      "text/plain": [
       "[('I am an data scietist', 'NN')]"
      ]
     },
     "execution_count": 74,
     "metadata": {},
     "output_type": "execute_result"
    }
   ],
   "source": [
    "sol = pos_tag(a)\n",
    "sol"
   ]
  },
  {
   "cell_type": "markdown",
   "id": "8a4106d2",
   "metadata": {},
   "source": [
    "### Converting text into Vectors [Numbers]"
   ]
  },
  {
   "cell_type": "markdown",
   "id": "e648245a",
   "metadata": {},
   "source": [
    "- Bag-of-words \n",
    "- TF-IDF\n",
    "- Padding "
   ]
  },
  {
   "cell_type": "markdown",
   "id": "945aa6b7",
   "metadata": {},
   "source": [
    "### 1. Bag of Words "
   ]
  },
  {
   "cell_type": "code",
   "execution_count": 7,
   "id": "0f50b38b",
   "metadata": {},
   "outputs": [],
   "source": [
    "a = [\"good boy\",\n",
    "    \"good girl\",\n",
    "    \"Boy girl good\"]\n",
    "\n"
   ]
  },
  {
   "cell_type": "code",
   "execution_count": 8,
   "id": "1f9b2303",
   "metadata": {},
   "outputs": [
    {
     "data": {
      "text/plain": [
       "['good boy', 'good girl', 'Boy girl good']"
      ]
     },
     "execution_count": 8,
     "metadata": {},
     "output_type": "execute_result"
    }
   ],
   "source": [
    "a"
   ]
  },
  {
   "cell_type": "code",
   "execution_count": 10,
   "id": "4cc37505",
   "metadata": {},
   "outputs": [],
   "source": [
    "import sklearn"
   ]
  },
  {
   "cell_type": "code",
   "execution_count": 11,
   "id": "03212e13",
   "metadata": {},
   "outputs": [],
   "source": [
    "from sklearn.feature_extraction.text import CountVectorizer"
   ]
  },
  {
   "cell_type": "code",
   "execution_count": 12,
   "id": "0b6398c4",
   "metadata": {},
   "outputs": [],
   "source": [
    "cv = CountVectorizer()"
   ]
  },
  {
   "cell_type": "code",
   "execution_count": 13,
   "id": "89f91dd4",
   "metadata": {},
   "outputs": [],
   "source": [
    "x = cv.fit_transform(a)"
   ]
  },
  {
   "cell_type": "code",
   "execution_count": 14,
   "id": "9e09d1be",
   "metadata": {},
   "outputs": [
    {
     "data": {
      "text/plain": [
       "<3x3 sparse matrix of type '<class 'numpy.int64'>'\n",
       "\twith 7 stored elements in Compressed Sparse Row format>"
      ]
     },
     "execution_count": 14,
     "metadata": {},
     "output_type": "execute_result"
    }
   ],
   "source": [
    "x"
   ]
  },
  {
   "cell_type": "code",
   "execution_count": 15,
   "id": "247bbdfd",
   "metadata": {
    "scrolled": true
   },
   "outputs": [
    {
     "data": {
      "text/plain": [
       "array([[1, 0, 1],\n",
       "       [0, 1, 1],\n",
       "       [1, 1, 1]], dtype=int64)"
      ]
     },
     "execution_count": 15,
     "metadata": {},
     "output_type": "execute_result"
    }
   ],
   "source": [
    "x.toarray()"
   ]
  },
  {
   "cell_type": "code",
   "execution_count": 18,
   "id": "0ad10105",
   "metadata": {},
   "outputs": [
    {
     "data": {
      "text/plain": [
       "{'good': 2, 'boy': 0, 'girl': 1}"
      ]
     },
     "execution_count": 18,
     "metadata": {},
     "output_type": "execute_result"
    }
   ],
   "source": [
    "cv.vocabulary_"
   ]
  },
  {
   "cell_type": "code",
   "execution_count": 19,
   "id": "7ca8a29f",
   "metadata": {},
   "outputs": [
    {
     "data": {
      "text/plain": [
       "['good boy', 'good girl', 'Boy girl good']"
      ]
     },
     "execution_count": 19,
     "metadata": {},
     "output_type": "execute_result"
    }
   ],
   "source": [
    "a"
   ]
  },
  {
   "cell_type": "markdown",
   "id": "e55c3c4b",
   "metadata": {},
   "source": [
    "### TF-IDF"
   ]
  },
  {
   "cell_type": "code",
   "execution_count": 20,
   "id": "e34bdf52",
   "metadata": {},
   "outputs": [],
   "source": [
    "from sklearn.feature_extraction.text import TfidfVectorizer"
   ]
  },
  {
   "cell_type": "code",
   "execution_count": 22,
   "id": "c660ff00",
   "metadata": {},
   "outputs": [],
   "source": [
    "tf_idf = TfidfVectorizer()"
   ]
  },
  {
   "cell_type": "code",
   "execution_count": 23,
   "id": "cc38d2de",
   "metadata": {},
   "outputs": [
    {
     "data": {
      "text/plain": [
       "['good boy', 'good girl', 'Boy girl good']"
      ]
     },
     "execution_count": 23,
     "metadata": {},
     "output_type": "execute_result"
    }
   ],
   "source": [
    "a"
   ]
  },
  {
   "cell_type": "code",
   "execution_count": 24,
   "id": "7cf5ee97",
   "metadata": {},
   "outputs": [],
   "source": [
    "x = tf_idf.fit_transform(a)"
   ]
  },
  {
   "cell_type": "code",
   "execution_count": 25,
   "id": "1215bb19",
   "metadata": {},
   "outputs": [
    {
     "data": {
      "text/plain": [
       "{'good': 2, 'boy': 0, 'girl': 1}"
      ]
     },
     "execution_count": 25,
     "metadata": {},
     "output_type": "execute_result"
    }
   ],
   "source": [
    "tf_idf.vocabulary_"
   ]
  },
  {
   "cell_type": "code",
   "execution_count": 26,
   "id": "b1519805",
   "metadata": {},
   "outputs": [
    {
     "data": {
      "text/plain": [
       "array([[0.78980693, 0.        , 0.61335554],\n",
       "       [0.        , 0.78980693, 0.61335554],\n",
       "       [0.61980538, 0.61980538, 0.48133417]])"
      ]
     },
     "execution_count": 26,
     "metadata": {},
     "output_type": "execute_result"
    }
   ],
   "source": [
    "x.toarray()"
   ]
  },
  {
   "cell_type": "code",
   "execution_count": 27,
   "id": "def0e6f6",
   "metadata": {},
   "outputs": [
    {
     "data": {
      "text/plain": [
       "<3x3 sparse matrix of type '<class 'numpy.float64'>'\n",
       "\twith 7 stored elements in Compressed Sparse Row format>"
      ]
     },
     "execution_count": 27,
     "metadata": {},
     "output_type": "execute_result"
    }
   ],
   "source": [
    "x"
   ]
  },
  {
   "cell_type": "markdown",
   "id": "eb0872cc",
   "metadata": {},
   "source": [
    "## WordEmbedding 1.Padding or pad_sequence "
   ]
  },
  {
   "cell_type": "code",
   "execution_count": 28,
   "id": "fc6f399a",
   "metadata": {},
   "outputs": [],
   "source": [
    "import tensorflow "
   ]
  },
  {
   "cell_type": "code",
   "execution_count": 30,
   "id": "5e3a7468",
   "metadata": {},
   "outputs": [],
   "source": [
    "from tensorflow import keras "
   ]
  },
  {
   "cell_type": "code",
   "execution_count": 31,
   "id": "3dec2b09",
   "metadata": {},
   "outputs": [],
   "source": [
    "from tensorflow.keras.preprocessing.text import one_hot\n",
    "from tensorflow.keras.preprocessing.sequence import pad_sequences"
   ]
  },
  {
   "cell_type": "code",
   "execution_count": 32,
   "id": "8e80470a",
   "metadata": {},
   "outputs": [],
   "source": [
    "docs = ['Well done!',\n",
    "'Good work',\n",
    "'Great effort',\n",
    "'nice work',\n",
    "'Excellent!',\n",
    "'Weak',\n",
    "'Poor effort!',\n",
    "'not good',\n",
    "'poor work',\n",
    "'Could have done better.']"
   ]
  },
  {
   "cell_type": "code",
   "execution_count": 33,
   "id": "07446d4b",
   "metadata": {},
   "outputs": [
    {
     "data": {
      "text/plain": [
       "['Well done!',\n",
       " 'Good work',\n",
       " 'Great effort',\n",
       " 'nice work',\n",
       " 'Excellent!',\n",
       " 'Weak',\n",
       " 'Poor effort!',\n",
       " 'not good',\n",
       " 'poor work',\n",
       " 'Could have done better.']"
      ]
     },
     "execution_count": 33,
     "metadata": {},
     "output_type": "execute_result"
    }
   ],
   "source": [
    "docs"
   ]
  },
  {
   "cell_type": "code",
   "execution_count": 34,
   "id": "8df730d9",
   "metadata": {},
   "outputs": [
    {
     "data": {
      "text/plain": [
       "'Well done!'"
      ]
     },
     "execution_count": 34,
     "metadata": {},
     "output_type": "execute_result"
    }
   ],
   "source": [
    "docs[0]"
   ]
  },
  {
   "cell_type": "code",
   "execution_count": 35,
   "id": "f0b76462",
   "metadata": {},
   "outputs": [
    {
     "name": "stdout",
     "output_type": "stream",
     "text": [
      "[[70, 49], [88, 92], [8, 76], [56, 92], [68], [75], [25, 76], [39, 88], [25, 92], [29, 10, 49, 89]]\n"
     ]
    }
   ],
   "source": [
    "###  taking vocabulary(dictionary size())\n",
    "\n",
    "voc_size = 100\n",
    "Embed_docs = [one_hot(d,voc_size) for d in docs]\n",
    "print(Embed_docs)\n"
   ]
  },
  {
   "cell_type": "markdown",
   "id": "e4b0ea62",
   "metadata": {},
   "source": [
    "### Padding "
   ]
  },
  {
   "cell_type": "code",
   "execution_count": 37,
   "id": "480eefc8",
   "metadata": {},
   "outputs": [
    {
     "data": {
      "text/plain": [
       "10"
      ]
     },
     "execution_count": 37,
     "metadata": {},
     "output_type": "execute_result"
    }
   ],
   "source": [
    "docs[0]\n",
    "len(docs[0])"
   ]
  },
  {
   "cell_type": "code",
   "execution_count": 39,
   "id": "e0f44770",
   "metadata": {},
   "outputs": [
    {
     "name": "stdout",
     "output_type": "stream",
     "text": [
      "Well done! ----------> 10\n",
      "Good work ----------> 9\n",
      "Great effort ----------> 12\n",
      "nice work ----------> 9\n",
      "Excellent! ----------> 10\n",
      "Weak ----------> 4\n",
      "Poor effort! ----------> 12\n",
      "not good ----------> 8\n",
      "poor work ----------> 9\n",
      "Could have done better. ----------> 23\n"
     ]
    }
   ],
   "source": [
    "for i,j in enumerate(docs):\n",
    "    print(j,'---------->',len(docs[i]))"
   ]
  },
  {
   "cell_type": "code",
   "execution_count": 40,
   "id": "eef2ec30",
   "metadata": {},
   "outputs": [
    {
     "name": "stdout",
     "output_type": "stream",
     "text": [
      "[[70, 49], [88, 92], [8, 76], [56, 92], [68], [75], [25, 76], [39, 88], [25, 92], [29, 10, 49, 89]]\n"
     ]
    }
   ],
   "source": [
    "###  taking vocabulary(dictionary size())\n",
    "\n",
    "voc_size = 100\n",
    "Embed_docs = [one_hot(d,voc_size) for d in docs]\n",
    "print(Embed_docs)\n"
   ]
  },
  {
   "cell_type": "code",
   "execution_count": 43,
   "id": "7e78dec2",
   "metadata": {},
   "outputs": [
    {
     "name": "stdout",
     "output_type": "stream",
     "text": [
      "[[70 49  0  0  0]\n",
      " [88 92  0  0  0]\n",
      " [ 8 76  0  0  0]\n",
      " [56 92  0  0  0]\n",
      " [68  0  0  0  0]\n",
      " [75  0  0  0  0]\n",
      " [25 76  0  0  0]\n",
      " [39 88  0  0  0]\n",
      " [25 92  0  0  0]\n",
      " [29 10 49 89  0]]\n"
     ]
    }
   ],
   "source": [
    "## sentence should be of same length\n",
    "\n",
    "sent_length = 5\n",
    "\n",
    "Embd_doc_pad = pad_sequences(Embed_docs,maxlen=sent_length,padding='post')  # pre means begining\n",
    "\n",
    "print(Embd_doc_pad)\n",
    "\n",
    "\n"
   ]
  },
  {
   "cell_type": "code",
   "execution_count": null,
   "id": "62e57797",
   "metadata": {},
   "outputs": [],
   "source": []
  }
 ],
 "metadata": {
  "kernelspec": {
   "display_name": "Python 3 (ipykernel)",
   "language": "python",
   "name": "python3"
  },
  "language_info": {
   "codemirror_mode": {
    "name": "ipython",
    "version": 3
   },
   "file_extension": ".py",
   "mimetype": "text/x-python",
   "name": "python",
   "nbconvert_exporter": "python",
   "pygments_lexer": "ipython3",
   "version": "3.9.12"
  }
 },
 "nbformat": 4,
 "nbformat_minor": 5
}
